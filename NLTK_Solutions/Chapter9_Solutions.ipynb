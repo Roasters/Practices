{
 "cells": [
  {
   "cell_type": "code",
   "execution_count": 1,
   "metadata": {},
   "outputs": [],
   "source": [
    "import nltk"
   ]
  },
  {
   "cell_type": "markdown",
   "metadata": {},
   "source": [
    "## 1\n",
    "What constraints are required to correctly parse word sequences like I am happy and she is happy but not *you is happy or *they am happy? Implement two solutions for the present tense paradigm of the verb be in English, first taking Grammar (6) as your starting point, and then taking Grammar (18) as the starting point."
   ]
  },
  {
   "cell_type": "code",
   "execution_count": 42,
   "metadata": {},
   "outputs": [
    {
     "name": "stdout",
     "output_type": "stream",
     "text": [
      "﻿S -> NP[AGR=?n] VP[AGR=?n]\n",
      "NP[AGR=?n] -> N[AGR=?n]\n",
      "VP[AGR=?n] -> V[AGR=?n] Adj\n",
      "N[AGR=[NUM=sg, PER=1]] -> 'I'\n",
      "N[AGR=[NUM=sg, PER=2]] -> 'you'\n",
      "N[AGR=[NUM=sg, PER=3]] -> 'he' | 'she' | 'it'\n",
      "N[AGR=[NUM=pl]] -> 'we' | 'you' | 'they' \n",
      "V[AGR=[NUM=sg, PER=1]] -> 'am'\n",
      "V[AGR=[NUM=sg, PER=2]] -> 'are'\n",
      "V[AGR=[NUM=sg, PER=3]] -> 'is'\n",
      "V[AGR=[NUM=pl]] -> 'are'\n",
      "Adj -> 'happy'\n"
     ]
    }
   ],
   "source": [
    "grammar1 = nltk.data.show_cfg('happy.cfg')"
   ]
  },
  {
   "cell_type": "markdown",
   "metadata": {},
   "source": [
    "## 3\n",
    " Write a function subsumes() which holds of two feature structures fs1 and fs2 just in case fs1 subsumes fs2."
   ]
  },
  {
   "cell_type": "code",
   "execution_count": 48,
   "metadata": {},
   "outputs": [],
   "source": [
    "fs1 = nltk.FeatStruct(NUMBER=74, STREET='rue Pascal')\n",
    "fs2 = nltk.FeatStruct(CITY='Paris')\n",
    "fs3 = nltk.FeatStruct(NUMBER=74, STREET='rue Pascal', CITY='Paris')"
   ]
  },
  {
   "cell_type": "code",
   "execution_count": 52,
   "metadata": {},
   "outputs": [],
   "source": [
    "def subsumes(fs1, fs2):\n",
    "    if fs1.unify(fs2) == fs2:\n",
    "        return fs1.unify(fs2)\n",
    "    else:\n",
    "        return \"fs1 does not subsume fs2\""
   ]
  },
  {
   "cell_type": "code",
   "execution_count": 53,
   "metadata": {},
   "outputs": [
    {
     "name": "stdout",
     "output_type": "stream",
     "text": [
      "fs1 does not subsume fs2\n"
     ]
    }
   ],
   "source": [
    "print(subsumes(fs1, fs2))"
   ]
  },
  {
   "cell_type": "code",
   "execution_count": 55,
   "metadata": {},
   "outputs": [
    {
     "name": "stdout",
     "output_type": "stream",
     "text": [
      "[ CITY   = 'Paris'      ]\n",
      "[ NUMBER = 74           ]\n",
      "[ STREET = 'rue Pascal' ]\n"
     ]
    }
   ],
   "source": [
    "print(subsumes(fs1, fs3))"
   ]
  },
  {
   "cell_type": "markdown",
   "metadata": {},
   "source": [
    "## 4\n",
    "Modify the grammar illustrated in (28) to incorporate a bar feature for dealing with phrasal projections."
   ]
  },
  {
   "cell_type": "code",
   "execution_count": null,
   "metadata": {},
   "outputs": [],
   "source": [
    "\n",
    "VP[TENSE=?t, NUM=?n] -> Vbar\n",
    "VP[TENSE=?t, NUM=?n] -> Vbar AdvP\n",
    "VP[TENSE=?t, NUM=?n] -> Vbar PP\n",
    "\n",
    "Vbar -> V[SUBCAT=intrans, TENSE=?t, NUM=?n]\n",
    "Vbar -> V[SUBCAT=trans, TENSE=?t, NUM=?n] NP\n",
    "Vbar -> V[SUBCAT=clause, TENSE=?t, NUM=?n] S\n",
    "\n",
    "V[SUBCAT=intrans, TENSE=pres, NUM=sg] -> 'disappears' | 'walks'\n",
    "V[SUBCAT=trans, TENSE=pres, NUM=sg] -> 'sees' | 'likes'\n",
    "V[SUBCAT=clause, TENSE=pres, NUM=sg] -> 'says' | 'claims'\n",
    "\n",
    "V[SUBCAT=intrans, TENSE=pres, NUM=pl] -> 'disappear' | 'walk'\n",
    "V[SUBCAT=trans, TENSE=pres, NUM=pl] -> 'see' | 'like'\n",
    "V[SUBCAT=clause, TENSE=pres, NUM=pl] -> 'say' | 'claim'\n",
    "\n",
    "V[SUBCAT=intrans, TENSE=past, NUM=?n] -> 'disappeared' | 'walked'\n",
    "V[SUBCAT=trans, TENSE=past, NUM=?n] -> 'saw' | 'liked'\n",
    "V[SUBCAT=clause, TENSE=past, NUM=?n] -> 'said' | 'claimed'\n",
    "\n",
    "SBar -> Comp S\n",
    "Comp -> 'that'"
   ]
  }
 ],
 "metadata": {
  "kernelspec": {
   "display_name": "Python 3",
   "language": "python",
   "name": "python3"
  },
  "language_info": {
   "codemirror_mode": {
    "name": "ipython",
    "version": 3
   },
   "file_extension": ".py",
   "mimetype": "text/x-python",
   "name": "python",
   "nbconvert_exporter": "python",
   "pygments_lexer": "ipython3",
   "version": "3.7.1"
  }
 },
 "nbformat": 4,
 "nbformat_minor": 2
}
